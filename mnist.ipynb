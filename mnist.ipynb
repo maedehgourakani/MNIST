{
  "nbformat": 4,
  "nbformat_minor": 0,
  "metadata": {
    "colab": {
      "provenance": [],
      "gpuType": "T4",
      "mount_file_id": "1-lAQx5soYsmip2VGGIEEs7PHiyOsSTDy",
      "authorship_tag": "ABX9TyMBk/FnwUkr2Js/xb3NdkbN",
      "include_colab_link": true
    },
    "kernelspec": {
      "name": "python3",
      "display_name": "Python 3"
    },
    "language_info": {
      "name": "python"
    },
    "accelerator": "GPU"
  },
  "cells": [
    {
      "cell_type": "markdown",
      "metadata": {
        "id": "view-in-github",
        "colab_type": "text"
      },
      "source": [
        "<a href=\"https://colab.research.google.com/github/maedehgourakani/MNIST/blob/main/mnist.ipynb\" target=\"_parent\"><img src=\"https://colab.research.google.com/assets/colab-badge.svg\" alt=\"Open In Colab\"/></a>"
      ]
    },
    {
      "cell_type": "code",
      "source": [
        "!pip install torchmetrics"
      ],
      "metadata": {
        "colab": {
          "base_uri": "https://localhost:8080/",
          "height": 0
        },
        "id": "Sgq0SR4Lrmp1",
        "outputId": "28014622-c101-4b44-d89a-94c0d3c928a8"
      },
      "execution_count": 58,
      "outputs": [
        {
          "output_type": "stream",
          "name": "stdout",
          "text": [
            "Requirement already satisfied: torchmetrics in /usr/local/lib/python3.10/dist-packages (1.6.1)\n",
            "Requirement already satisfied: numpy>1.20.0 in /usr/local/lib/python3.10/dist-packages (from torchmetrics) (1.26.4)\n",
            "Requirement already satisfied: packaging>17.1 in /usr/local/lib/python3.10/dist-packages (from torchmetrics) (24.2)\n",
            "Requirement already satisfied: torch>=2.0.0 in /usr/local/lib/python3.10/dist-packages (from torchmetrics) (2.5.1+cu121)\n",
            "Requirement already satisfied: lightning-utilities>=0.8.0 in /usr/local/lib/python3.10/dist-packages (from torchmetrics) (0.11.9)\n",
            "Requirement already satisfied: setuptools in /usr/local/lib/python3.10/dist-packages (from lightning-utilities>=0.8.0->torchmetrics) (75.1.0)\n",
            "Requirement already satisfied: typing-extensions in /usr/local/lib/python3.10/dist-packages (from lightning-utilities>=0.8.0->torchmetrics) (4.12.2)\n",
            "Requirement already satisfied: filelock in /usr/local/lib/python3.10/dist-packages (from torch>=2.0.0->torchmetrics) (3.16.1)\n",
            "Requirement already satisfied: networkx in /usr/local/lib/python3.10/dist-packages (from torch>=2.0.0->torchmetrics) (3.4.2)\n",
            "Requirement already satisfied: jinja2 in /usr/local/lib/python3.10/dist-packages (from torch>=2.0.0->torchmetrics) (3.1.4)\n",
            "Requirement already satisfied: fsspec in /usr/local/lib/python3.10/dist-packages (from torch>=2.0.0->torchmetrics) (2024.10.0)\n",
            "Requirement already satisfied: sympy==1.13.1 in /usr/local/lib/python3.10/dist-packages (from torch>=2.0.0->torchmetrics) (1.13.1)\n",
            "Requirement already satisfied: mpmath<1.4,>=1.1.0 in /usr/local/lib/python3.10/dist-packages (from sympy==1.13.1->torch>=2.0.0->torchmetrics) (1.3.0)\n",
            "Requirement already satisfied: MarkupSafe>=2.0 in /usr/local/lib/python3.10/dist-packages (from jinja2->torch>=2.0.0->torchmetrics) (3.0.2)\n"
          ]
        }
      ]
    },
    {
      "cell_type": "code",
      "execution_count": 102,
      "metadata": {
        "id": "2CREtvVdLD_3"
      },
      "outputs": [],
      "source": [
        "import torch\n",
        "import torchvision\n",
        "from torch import nn\n",
        "import torch.nn.functional as F\n",
        "from torch.utils.data import DataLoader, random_split\n",
        "from torch import optim\n",
        "\n",
        "from torchvision.datasets import MNIST\n",
        "from torchvision.transforms import Compose, RandomHorizontalFlip, RandomCrop, Normalize, ToTensor\n",
        "from torchmetrics import Accuracy\n",
        "from tqdm import tqdm\n",
        "\n",
        "import matplotlib.pyplot as plt"
      ]
    },
    {
      "cell_type": "code",
      "source": [
        "device = 'cuda' if torch.cuda.is_available() else 'cpu'\n",
        "device"
      ],
      "metadata": {
        "colab": {
          "base_uri": "https://localhost:8080/",
          "height": 35
        },
        "id": "-bLgH5sKfj3n",
        "outputId": "79be80ab-ddb7-4637-bd90-1a5a70160bc3"
      },
      "execution_count": 60,
      "outputs": [
        {
          "output_type": "execute_result",
          "data": {
            "text/plain": [
              "'cuda'"
            ],
            "application/vnd.google.colaboratory.intrinsic+json": {
              "type": "string"
            }
          },
          "metadata": {},
          "execution_count": 60
        }
      ]
    },
    {
      "cell_type": "code",
      "source": [
        "_dataset = MNIST(root='./drive/MyDrive/deep_learning/mnist', download=True)"
      ],
      "metadata": {
        "id": "mvqCG2M3LQW5",
        "colab": {
          "base_uri": "https://localhost:8080/",
          "height": 0
        },
        "outputId": "fe4a1478-4b59-4fc2-caa5-02855f514904"
      },
      "execution_count": 100,
      "outputs": [
        {
          "output_type": "stream",
          "name": "stdout",
          "text": [
            "Downloading http://yann.lecun.com/exdb/mnist/train-images-idx3-ubyte.gz\n",
            "Failed to download (trying next):\n",
            "HTTP Error 403: Forbidden\n",
            "\n",
            "Downloading https://ossci-datasets.s3.amazonaws.com/mnist/train-images-idx3-ubyte.gz\n",
            "Downloading https://ossci-datasets.s3.amazonaws.com/mnist/train-images-idx3-ubyte.gz to ./drive/MyDrive/deep_learning/mnist/MNIST/raw/train-images-idx3-ubyte.gz\n"
          ]
        },
        {
          "output_type": "stream",
          "name": "stderr",
          "text": [
            "100%|██████████| 9.91M/9.91M [00:00<00:00, 16.7MB/s]\n"
          ]
        },
        {
          "output_type": "stream",
          "name": "stdout",
          "text": [
            "Extracting ./drive/MyDrive/deep_learning/mnist/MNIST/raw/train-images-idx3-ubyte.gz to ./drive/MyDrive/deep_learning/mnist/MNIST/raw\n",
            "\n",
            "Downloading http://yann.lecun.com/exdb/mnist/train-labels-idx1-ubyte.gz\n",
            "Failed to download (trying next):\n",
            "HTTP Error 403: Forbidden\n",
            "\n",
            "Downloading https://ossci-datasets.s3.amazonaws.com/mnist/train-labels-idx1-ubyte.gz\n",
            "Downloading https://ossci-datasets.s3.amazonaws.com/mnist/train-labels-idx1-ubyte.gz to ./drive/MyDrive/deep_learning/mnist/MNIST/raw/train-labels-idx1-ubyte.gz\n"
          ]
        },
        {
          "output_type": "stream",
          "name": "stderr",
          "text": [
            "100%|██████████| 28.9k/28.9k [00:00<00:00, 536kB/s]\n"
          ]
        },
        {
          "output_type": "stream",
          "name": "stdout",
          "text": [
            "Extracting ./drive/MyDrive/deep_learning/mnist/MNIST/raw/train-labels-idx1-ubyte.gz to ./drive/MyDrive/deep_learning/mnist/MNIST/raw\n",
            "\n",
            "Downloading http://yann.lecun.com/exdb/mnist/t10k-images-idx3-ubyte.gz\n",
            "Failed to download (trying next):\n",
            "HTTP Error 403: Forbidden\n",
            "\n",
            "Downloading https://ossci-datasets.s3.amazonaws.com/mnist/t10k-images-idx3-ubyte.gz\n",
            "Downloading https://ossci-datasets.s3.amazonaws.com/mnist/t10k-images-idx3-ubyte.gz to ./drive/MyDrive/deep_learning/mnist/MNIST/raw/t10k-images-idx3-ubyte.gz\n"
          ]
        },
        {
          "output_type": "stream",
          "name": "stderr",
          "text": [
            "100%|██████████| 1.65M/1.65M [00:00<00:00, 4.51MB/s]\n"
          ]
        },
        {
          "output_type": "stream",
          "name": "stdout",
          "text": [
            "Extracting ./drive/MyDrive/deep_learning/mnist/MNIST/raw/t10k-images-idx3-ubyte.gz to ./drive/MyDrive/deep_learning/mnist/MNIST/raw\n",
            "\n",
            "Downloading http://yann.lecun.com/exdb/mnist/t10k-labels-idx1-ubyte.gz\n",
            "Failed to download (trying next):\n",
            "HTTP Error 403: Forbidden\n",
            "\n",
            "Downloading https://ossci-datasets.s3.amazonaws.com/mnist/t10k-labels-idx1-ubyte.gz\n",
            "Downloading https://ossci-datasets.s3.amazonaws.com/mnist/t10k-labels-idx1-ubyte.gz to ./drive/MyDrive/deep_learning/mnist/MNIST/raw/t10k-labels-idx1-ubyte.gz\n"
          ]
        },
        {
          "output_type": "stream",
          "name": "stderr",
          "text": [
            "100%|██████████| 4.54k/4.54k [00:00<00:00, 3.90MB/s]"
          ]
        },
        {
          "output_type": "stream",
          "name": "stdout",
          "text": [
            "Extracting ./drive/MyDrive/deep_learning/mnist/MNIST/raw/t10k-labels-idx1-ubyte.gz to ./drive/MyDrive/deep_learning/mnist/MNIST/raw\n",
            "\n"
          ]
        },
        {
          "output_type": "stream",
          "name": "stderr",
          "text": [
            "\n"
          ]
        }
      ]
    },
    {
      "cell_type": "code",
      "source": [
        "# num of chanel, max and min of data, is it need to normalize?\n",
        "_dataset.data.shape, _dataset.data.max(), _dataset.data.min()"
      ],
      "metadata": {
        "colab": {
          "base_uri": "https://localhost:8080/",
          "height": 0
        },
        "id": "Jfq4njx7Lo80",
        "outputId": "ef676321-072f-44ac-a4aa-14dfd62ea379"
      },
      "execution_count": 62,
      "outputs": [
        {
          "output_type": "execute_result",
          "data": {
            "text/plain": [
              "(torch.Size([60000, 28, 28]),\n",
              " tensor(255, dtype=torch.uint8),\n",
              " tensor(0, dtype=torch.uint8))"
            ]
          },
          "metadata": {},
          "execution_count": 62
        }
      ]
    },
    {
      "cell_type": "markdown",
      "source": [],
      "metadata": {
        "id": "R-6txBFsMTE1"
      }
    },
    {
      "cell_type": "code",
      "source": [
        "mean = torch.FloatTensor(_dataset.data/_dataset.data.max()).mean()\n",
        "std = torch.FloatTensor(_dataset.data/_dataset.data.max()).std()\n",
        "img_size = _dataset.data.shape[1]\n",
        "\n",
        "mean, std"
      ],
      "metadata": {
        "colab": {
          "base_uri": "https://localhost:8080/",
          "height": 0
        },
        "id": "NfvwRXHYL9yI",
        "outputId": "5aea48cc-6743-42d9-9397-87bb02ccc3f7"
      },
      "execution_count": 63,
      "outputs": [
        {
          "output_type": "execute_result",
          "data": {
            "text/plain": [
              "(tensor(0.1307), tensor(0.3081))"
            ]
          },
          "metadata": {},
          "execution_count": 63
        }
      ]
    },
    {
      "cell_type": "code",
      "source": [
        "# augementation\n",
        "\n",
        "train_trans = Compose([\n",
        "    RandomCrop(img_size, padding=1),\n",
        "    RandomHorizontalFlip(p=0.5),\n",
        "    ToTensor(),\n",
        "    Normalize(mean, std)\n",
        "])\n",
        "\n",
        "# normalize by mean and std of train_dataset, without do something like crop or....\n",
        "valid_trans = Compose([\n",
        "    ToTensor(),\n",
        "    Normalize(mean, std)\n",
        "])"
      ],
      "metadata": {
        "id": "kwCp21AEMu3B"
      },
      "execution_count": 64,
      "outputs": []
    },
    {
      "cell_type": "code",
      "source": [
        "train_set = MNIST(root='./drive/MyDrive/deep_learning/mnist', train=True, transform=train_trans)\n",
        "\n",
        "valid_set = MNIST(root='./drive/MyDrive/deep_learning/mnist', train=False, transform=valid_trans)\n",
        "\n",
        "train_set, valid_set"
      ],
      "metadata": {
        "colab": {
          "base_uri": "https://localhost:8080/",
          "height": 0
        },
        "id": "nvcYrOvGOqBp",
        "outputId": "e0a92ead-2332-4ca2-c2bc-017a316fba57"
      },
      "execution_count": 65,
      "outputs": [
        {
          "output_type": "execute_result",
          "data": {
            "text/plain": [
              "(Dataset MNIST\n",
              "     Number of datapoints: 60000\n",
              "     Root location: ./mnist/\n",
              "     Split: Train\n",
              "     StandardTransform\n",
              " Transform: Compose(\n",
              "                RandomCrop(size=(28, 28), padding=1)\n",
              "                RandomHorizontalFlip(p=0.5)\n",
              "                ToTensor()\n",
              "                Normalize(mean=0.13066047430038452, std=0.30810782313346863)\n",
              "            ),\n",
              " Dataset MNIST\n",
              "     Number of datapoints: 10000\n",
              "     Root location: ./mnist/\n",
              "     Split: Test\n",
              "     StandardTransform\n",
              " Transform: Compose(\n",
              "                ToTensor()\n",
              "                Normalize(mean=0.13066047430038452, std=0.30810782313346863)\n",
              "            ))"
            ]
          },
          "metadata": {},
          "execution_count": 65
        }
      ]
    },
    {
      "cell_type": "markdown",
      "source": [
        "**1-3**"
      ],
      "metadata": {
        "id": "ovJXhM8nST91"
      }
    },
    {
      "cell_type": "code",
      "source": [
        "train_loader = DataLoader(train_set, batch_size=64, shuffle=True)\n",
        "validation_loader = DataLoader(valid_set, batch_size=256)"
      ],
      "metadata": {
        "id": "Tkh25663Re2U"
      },
      "execution_count": 66,
      "outputs": []
    },
    {
      "cell_type": "markdown",
      "source": [],
      "metadata": {
        "id": "M0EBCK4WTkUu"
      }
    },
    {
      "cell_type": "markdown",
      "source": [
        "1-4"
      ],
      "metadata": {
        "id": "X3i0wCJfTmgX"
      }
    },
    {
      "cell_type": "code",
      "source": [
        "x_batch, y_batch = next(iter(train_loader))\n",
        "x_batch.shape, y_batch.shape"
      ],
      "metadata": {
        "colab": {
          "base_uri": "https://localhost:8080/",
          "height": 0
        },
        "id": "xauTmAGTSW0C",
        "outputId": "bf951fd1-a3f8-4e67-d397-7b4ac91748c9"
      },
      "execution_count": 67,
      "outputs": [
        {
          "output_type": "execute_result",
          "data": {
            "text/plain": [
              "(torch.Size([64, 1, 28, 28]), torch.Size([64]))"
            ]
          },
          "metadata": {},
          "execution_count": 67
        }
      ]
    },
    {
      "cell_type": "markdown",
      "source": [],
      "metadata": {
        "id": "qV2vM86xUA6H"
      }
    },
    {
      "cell_type": "markdown",
      "source": [
        "#2"
      ],
      "metadata": {
        "id": "0ALUIGMSUEQu"
      }
    },
    {
      "cell_type": "code",
      "source": [
        "def cnn_layer(in_channel, out_channel, kernel, stride):\n",
        "  return nn.Sequential(\n",
        "      nn.Conv2d(in_channel, out_channel, kernel_size=kernel, stride=stride, padding=1),\n",
        "      nn.BatchNorm2d(out_channel),\n",
        "      nn.ReLU()\n",
        "  )"
      ],
      "metadata": {
        "id": "cJI5Pvw_UqQ9"
      },
      "execution_count": 68,
      "outputs": []
    },
    {
      "cell_type": "code",
      "source": [
        "def cnn():\n",
        "  return nn.Sequential(\n",
        "      cnn_layer(1, 32, 3, 2),\n",
        "      nn.MaxPool2d(2, 2),\n",
        "\n",
        "      cnn_layer(32, 32, 3, 1),\n",
        "      cnn_layer(32, 64, 1, 1),\n",
        "      nn.MaxPool2d(2, 2),\n",
        "\n",
        "      cnn_layer(64, 64, 3, 2),\n",
        "      cnn_layer(64, 128, 1, 1),\n",
        "      nn.MaxPool2d(2, 2),\n",
        "\n",
        "      cnn_layer(128, 128, 3, 1),\n",
        "      cnn_layer(128, 128, 1, 1),\n",
        "      nn.MaxPool2d(2, 2),\n",
        "\n",
        "      cnn_layer(128, 128, 3, 2),\n",
        "      cnn_layer(128, 256, 1, 1),\n",
        "      nn.MaxPool2d(2, 2),\n",
        "\n",
        "      cnn_layer(256, 256, 3, 1),\n",
        "      cnn_layer(256, 256, 1, 1),\n",
        "      nn.MaxPool2d(2, 2),\n",
        "\n",
        "      cnn_layer(256, 256, 3, 1),\n",
        "      cnn_layer(256, 512,1, 1),\n",
        "      nn.MaxPool2d(2, 2),\n",
        "\n",
        "      cnn_layer(512, 512, 3, 1),\n",
        "      cnn_layer(512, 512, 1, 1),\n",
        "      nn.MaxPool2d(2, 2),\n",
        "\n",
        "      cnn_layer(512, 512, 3, 2),\n",
        "      cnn_layer(512, 1024, 1, 1),\n",
        "      nn.MaxPool2d(2, 2),\n",
        "\n",
        "      cnn_layer(1024, 1024, 3, 1),\n",
        "      cnn_layer(1024, 1024, 1, 1),\n",
        "      nn.AdaptiveAvgPool2d(output_size=(1, 1)),\n",
        "\n",
        "      nn.Flatten(),\n",
        "\n",
        "      nn.Linear(1024, 10)\n",
        "\n",
        "  )"
      ],
      "metadata": {
        "id": "Bma4hBGzUGhR"
      },
      "execution_count": 69,
      "outputs": []
    },
    {
      "cell_type": "markdown",
      "source": [
        "2-2"
      ],
      "metadata": {
        "id": "casKtRqScQIM"
      }
    },
    {
      "cell_type": "code",
      "source": [
        "#train_set[0]"
      ],
      "metadata": {
        "id": "ugYSwQ5jUT3B"
      },
      "execution_count": 70,
      "outputs": []
    },
    {
      "cell_type": "code",
      "source": [
        "model = cnn().to(device)"
      ],
      "metadata": {
        "id": "RuwESlNScwm1"
      },
      "execution_count": 71,
      "outputs": []
    },
    {
      "cell_type": "code",
      "source": [
        "x_batch, y_batch = next(iter(train_loader))"
      ],
      "metadata": {
        "id": "MiylgTqXgE18"
      },
      "execution_count": 72,
      "outputs": []
    },
    {
      "cell_type": "code",
      "source": [
        "model(x_batch.to(device)).shape"
      ],
      "metadata": {
        "colab": {
          "base_uri": "https://localhost:8080/",
          "height": 0
        },
        "id": "N7r9k053hAj_",
        "outputId": "806e5bf6-1791-4a39-8d1f-309625758238"
      },
      "execution_count": 73,
      "outputs": [
        {
          "output_type": "execute_result",
          "data": {
            "text/plain": [
              "torch.Size([64, 10])"
            ]
          },
          "metadata": {},
          "execution_count": 73
        }
      ]
    },
    {
      "cell_type": "markdown",
      "source": [
        "2-3"
      ],
      "metadata": {
        "id": "Y5myWZr9j5P_"
      }
    },
    {
      "cell_type": "code",
      "source": [
        "sum([torch.numel(p) for p in model.parameters()])"
      ],
      "metadata": {
        "colab": {
          "base_uri": "https://localhost:8080/",
          "height": 0
        },
        "id": "maP9YF6YhNC9",
        "outputId": "d2af3e34-85b2-4bb6-ecc4-741cc7a43363"
      },
      "execution_count": 74,
      "outputs": [
        {
          "output_type": "execute_result",
          "data": {
            "text/plain": [
              "17798506"
            ]
          },
          "metadata": {},
          "execution_count": 74
        }
      ]
    },
    {
      "cell_type": "markdown",
      "source": [
        "#3"
      ],
      "metadata": {
        "id": "Tx4ShTd3lIY8"
      }
    },
    {
      "cell_type": "markdown",
      "source": [],
      "metadata": {
        "id": "UoLng1KWlK_D"
      }
    },
    {
      "cell_type": "markdown",
      "source": [
        "#4"
      ],
      "metadata": {
        "id": "WH35U58ClOt2"
      }
    },
    {
      "cell_type": "markdown",
      "source": [],
      "metadata": {
        "id": "Imbl5XGymMk6"
      }
    },
    {
      "cell_type": "markdown",
      "source": [
        "#5"
      ],
      "metadata": {
        "id": "fFUmfvsemOOo"
      }
    },
    {
      "cell_type": "markdown",
      "source": [
        "5-1"
      ],
      "metadata": {
        "id": "T5rR4S5TmQ3I"
      }
    },
    {
      "cell_type": "code",
      "source": [
        "class Averaging:\n",
        "  def __init__(self):\n",
        "    self.sum = 0.\n",
        "    self.counter = 0\n",
        "\n",
        "  def cal_avg(self, val):\n",
        "    self.sum += val\n",
        "    self.counter += 1\n",
        "\n",
        "    return self.sum/self.counter\n",
        "\n",
        "  def reset(self):\n",
        "    self.sum = 0.\n",
        "    self.counter = 0"
      ],
      "metadata": {
        "id": "BOBWmo-drCT3"
      },
      "execution_count": 75,
      "outputs": []
    },
    {
      "cell_type": "code",
      "source": [
        "train_acc = Accuracy(task='multiclass', num_classes=len(train_set.classes)).to(device)\n",
        "train_loss_avg = Averaging()\n",
        "\n",
        "def train_one_epoch(model, data_loader, loss_fn, optimizer, epoch, device):\n",
        "  train_acc.reset()\n",
        "  train_loss_avg.reset()\n",
        "\n",
        "  with tqdm(data_loader, desc=f\"Epoch:{epoch}\", unit=\" batch\") as trange:\n",
        "    for x_batch, y_batch in trange:\n",
        "\n",
        "      x_batch, y_batch = x_batch.to(device), y_batch.to(device)\n",
        "\n",
        "      # Forward\n",
        "      yp = model(x_batch)\n",
        "      loss = loss_fn(yp, y_batch)\n",
        "\n",
        "      # Bachward\n",
        "      loss.backward()\n",
        "      optimizer.step()\n",
        "      optimizer.zero_grad()\n",
        "\n",
        "      train_acc(yp, y_batch.int())\n",
        "      train_acc_val = train_acc.compute().item()\n",
        "\n",
        "      train_loss_avg_val = train_loss_avg.cal_avg(loss.item())\n",
        "\n",
        "      trange.set_postfix(accuracy=100 * train_acc_val, loss=train_loss_avg_val)\n",
        "\n",
        "  return model, train_acc_val, train_loss_avg_val"
      ],
      "metadata": {
        "id": "J1Za_Q34mSOd"
      },
      "execution_count": 88,
      "outputs": []
    },
    {
      "cell_type": "markdown",
      "source": [
        "Forward"
      ],
      "metadata": {
        "id": "01sypHJNE8qE"
      }
    },
    {
      "cell_type": "code",
      "source": [
        "valid_acc = Accuracy(task='multiclass', num_classes=len(train_set.classes)).to(device)\n",
        "valid_loss_avg = Averaging()\n",
        "\n",
        "def validation(model, data_loader, loss_fn, device):\n",
        "\n",
        "  valid_loss_avg.reset()\n",
        "  valid_acc.reset()\n",
        "\n",
        "  for x_batch, y_batch in data_loader:\n",
        "    x_batch, y_batch = x_batch.to(device), y_batch.to(device)\n",
        "\n",
        "    #forward\n",
        "    yp = model(x_batch)\n",
        "    loss = loss_fn(yp, y_batch)\n",
        "\n",
        "    valid_acc(yp, y_batch.int())\n",
        "    valid_acc_val = valid_acc.compute().item()\n",
        "\n",
        "    valid_loss_avg_val = valid_loss_avg.cal_avg(loss.item())\n",
        "\n",
        "  return valid_acc_val, valid_loss_avg_val"
      ],
      "metadata": {
        "id": "j-EV0MRiE2iP"
      },
      "execution_count": 89,
      "outputs": []
    },
    {
      "cell_type": "code",
      "source": [
        "model2 = cnn().to(device)\n",
        "loss_fn = nn.CrossEntropyLoss()\n",
        "optimizer = optim.SGD(model2.parameters(), lr=1e-2, weight_decay=1e-4)"
      ],
      "metadata": {
        "id": "ZqFkbvh5lPmW"
      },
      "execution_count": 90,
      "outputs": []
    },
    {
      "cell_type": "code",
      "source": [
        "mini_set_size = 0.1\n",
        "_, mini_set = random_split(train_set, lengths=[1 - mini_set_size, mini_set_size])\n",
        "\n",
        "#change to dataloder\n",
        "mini_loader = DataLoader(mini_set, batch_size=64, shuffle=True)"
      ],
      "metadata": {
        "id": "J5o7YlzCJQiR"
      },
      "execution_count": 91,
      "outputs": []
    },
    {
      "cell_type": "code",
      "source": [
        "for ep in range(3):\n",
        "  model2, _, _ = train_one_epoch(model2, mini_loader, loss_fn, optimizer, ep, device)\n",
        "  validation(model2, mini_loader, loss_fn, device)"
      ],
      "metadata": {
        "colab": {
          "base_uri": "https://localhost:8080/",
          "height": 0
        },
        "id": "TvVCZzMEJGNm",
        "outputId": "354a5ecb-a9be-4b71-c604-76cebd53b889"
      },
      "execution_count": 92,
      "outputs": [
        {
          "output_type": "stream",
          "name": "stderr",
          "text": [
            "Epoch:0: 100%|██████████| 94/94 [00:04<00:00, 19.13 batch/s, accuracy=41.5, loss=1.8]\n",
            "Epoch:1: 100%|██████████| 94/94 [00:05<00:00, 17.18 batch/s, accuracy=73.5, loss=0.928]\n",
            "Epoch:2: 100%|██████████| 94/94 [00:04<00:00, 19.55 batch/s, accuracy=81.8, loss=0.644]\n"
          ]
        }
      ]
    },
    {
      "cell_type": "markdown",
      "source": [
        "5-4\n",
        "به ازای لرنینگریت های [0.1,0.01,0.001,0.0001] کل داده آموزشی را به اندازه یک\n",
        "ایپاک، ترین کنید."
      ],
      "metadata": {
        "id": "8LpF_wfXTXww"
      }
    },
    {
      "cell_type": "code",
      "source": [
        "for lr in [0.1, 0.01, 0.001, 0.0001]:\n",
        "  print(f'\\nlr: {lr}')\n",
        "  model3 = cnn().to(device)\n",
        "  optimizer3 = optim.SGD(model3.parameters(), lr=lr)\n",
        "  loss_fn = nn.CrossEntropyLoss()\n",
        "  for ep in range(1):\n",
        "    model3, _, _ = train_one_epoch(model3, train_loader, loss_fn, optimizer3, ep, device)"
      ],
      "metadata": {
        "colab": {
          "base_uri": "https://localhost:8080/",
          "height": 0
        },
        "id": "8CMqyeZiFBcn",
        "outputId": "2bb0bd1f-583a-44fd-f5d0-d8213af33bb2"
      },
      "execution_count": 93,
      "outputs": [
        {
          "output_type": "stream",
          "name": "stdout",
          "text": [
            "\n",
            "lr: 0.1\n"
          ]
        },
        {
          "output_type": "stream",
          "name": "stderr",
          "text": [
            "Epoch:0: 100%|██████████| 938/938 [00:52<00:00, 17.70 batch/s, accuracy=84, loss=0.514]\n"
          ]
        },
        {
          "output_type": "stream",
          "name": "stdout",
          "text": [
            "\n",
            "lr: 0.01\n"
          ]
        },
        {
          "output_type": "stream",
          "name": "stderr",
          "text": [
            "Epoch:0: 100%|██████████| 938/938 [00:49<00:00, 18.82 batch/s, accuracy=82.1, loss=0.602]\n"
          ]
        },
        {
          "output_type": "stream",
          "name": "stdout",
          "text": [
            "\n",
            "lr: 0.001\n"
          ]
        },
        {
          "output_type": "stream",
          "name": "stderr",
          "text": [
            "Epoch:0: 100%|██████████| 938/938 [00:50<00:00, 18.62 batch/s, accuracy=43.4, loss=1.76]\n"
          ]
        },
        {
          "output_type": "stream",
          "name": "stdout",
          "text": [
            "\n",
            "lr: 0.0001\n"
          ]
        },
        {
          "output_type": "stream",
          "name": "stderr",
          "text": [
            "Epoch:0: 100%|██████████| 938/938 [00:49<00:00, 18.87 batch/s, accuracy=14, loss=2.28]\n"
          ]
        }
      ]
    },
    {
      "cell_type": "code",
      "source": [
        "for wd in [0,1e-1, 1e-2, 1e-3]:\n",
        "  print(f'\\nwd: {wd}')\n",
        "  model3 = cnn().to(device)\n",
        "  optimizer3 = optim.SGD(model3.parameters(), lr=0.1, weight_decay=wd)\n",
        "  loss_fn = nn.CrossEntropyLoss()\n",
        "\n",
        "  for ep in range(1):\n",
        "    model3, _, _ = train_one_epoch(model3, train_loader, loss_fn, optimizer3, ep, device)"
      ],
      "metadata": {
        "colab": {
          "base_uri": "https://localhost:8080/",
          "height": 0
        },
        "id": "XYnpJfFGVynj",
        "outputId": "11f815fd-8b0e-4029-a422-b5d821468d91"
      },
      "execution_count": 97,
      "outputs": [
        {
          "output_type": "stream",
          "name": "stdout",
          "text": [
            "\n",
            "wd: 0\n"
          ]
        },
        {
          "output_type": "stream",
          "name": "stderr",
          "text": [
            "Epoch:0: 100%|██████████| 938/938 [00:54<00:00, 17.12 batch/s, accuracy=83.8, loss=0.518]\n"
          ]
        },
        {
          "output_type": "stream",
          "name": "stdout",
          "text": [
            "\n",
            "wd: 0.1\n"
          ]
        },
        {
          "output_type": "stream",
          "name": "stderr",
          "text": [
            "Epoch:0: 100%|██████████| 938/938 [00:51<00:00, 18.29 batch/s, accuracy=31, loss=2.08]\n"
          ]
        },
        {
          "output_type": "stream",
          "name": "stdout",
          "text": [
            "\n",
            "wd: 0.01\n"
          ]
        },
        {
          "output_type": "stream",
          "name": "stderr",
          "text": [
            "Epoch:0: 100%|██████████| 938/938 [00:50<00:00, 18.46 batch/s, accuracy=80.6, loss=0.64]\n"
          ]
        },
        {
          "output_type": "stream",
          "name": "stdout",
          "text": [
            "\n",
            "wd: 0.001\n"
          ]
        },
        {
          "output_type": "stream",
          "name": "stderr",
          "text": [
            "Epoch:0: 100%|██████████| 938/938 [00:56<00:00, 16.69 batch/s, accuracy=84, loss=0.514]\n"
          ]
        }
      ]
    },
    {
      "cell_type": "markdown",
      "source": [
        "wd = o, lr = 0.1\n",
        "\n",
        "5-6"
      ],
      "metadata": {
        "id": "UFiHDHvXcWfQ"
      }
    },
    {
      "cell_type": "code",
      "source": [
        "train_loss_hist, train_acc_hist = [], []\n",
        "valid_loss_hist, valid_acc_hist = [], []"
      ],
      "metadata": {
        "id": "wvpEHN-kdmTg"
      },
      "execution_count": 107,
      "outputs": []
    },
    {
      "cell_type": "code",
      "source": [
        "#main model\n",
        "\n",
        "main_model = cnn().to(device)\n",
        "loss_fn = nn.CrossEntropyLoss()\n",
        "main_optimizer = optim.SGD(main_model.parameters(), lr=0.1, weight_decay=0)\n",
        "\n",
        "# train\n",
        "for ep in range(10):\n",
        "  main_model, train_acc_val, train_loss_val = train_one_epoch(main_model, train_loader, loss_fn, main_optimizer, ep, device)\n",
        "  train_loss_hist.append(train_loss_val)\n",
        "  train_acc_hist.append(train_acc_val)\n",
        "\n",
        "  # validation\n",
        "  valid_acc_val, valid_loss_val = validation(main_model, validation_loader, loss_fn, device)\n",
        "  valid_loss_hist.append(valid_loss_val)\n",
        "  valid_acc_hist.append(valid_acc_val)"
      ],
      "metadata": {
        "colab": {
          "base_uri": "https://localhost:8080/",
          "height": 0
        },
        "id": "5dm6lj4Vchwo",
        "outputId": "eb9b5b7a-5d63-41fc-ed2f-49bd83cdf2a4"
      },
      "execution_count": 108,
      "outputs": [
        {
          "output_type": "stream",
          "name": "stderr",
          "text": [
            "Epoch:0: 100%|██████████| 938/938 [00:51<00:00, 18.22 batch/s, accuracy=84.5, loss=0.501]\n",
            "Epoch:1: 100%|██████████| 938/938 [00:50<00:00, 18.53 batch/s, accuracy=94.4, loss=0.199]\n",
            "Epoch:2: 100%|██████████| 938/938 [00:50<00:00, 18.66 batch/s, accuracy=95.9, loss=0.147]\n",
            "Epoch:3: 100%|██████████| 938/938 [00:49<00:00, 18.87 batch/s, accuracy=96.6, loss=0.122]\n",
            "Epoch:4: 100%|██████████| 938/938 [00:50<00:00, 18.68 batch/s, accuracy=96.9, loss=0.108]\n",
            "Epoch:5: 100%|██████████| 938/938 [00:50<00:00, 18.59 batch/s, accuracy=97.2, loss=0.0948]\n",
            "Epoch:6: 100%|██████████| 938/938 [00:50<00:00, 18.55 batch/s, accuracy=97.5, loss=0.086]\n",
            "Epoch:7: 100%|██████████| 938/938 [00:50<00:00, 18.76 batch/s, accuracy=97.5, loss=0.0856]\n",
            "Epoch:8: 100%|██████████| 938/938 [00:49<00:00, 18.85 batch/s, accuracy=97.8, loss=0.0768]\n",
            "Epoch:9: 100%|██████████| 938/938 [00:50<00:00, 18.76 batch/s, accuracy=97.8, loss=0.0743]\n"
          ]
        }
      ]
    },
    {
      "cell_type": "code",
      "source": [
        "torch.save(main_model, './drive/MyDrive/deep_learning/mnist_final_model')"
      ],
      "metadata": {
        "id": "O1BoGO8rjYFF"
      },
      "execution_count": 98,
      "outputs": []
    },
    {
      "cell_type": "code",
      "source": [
        "valid_loss_hist"
      ],
      "metadata": {
        "colab": {
          "base_uri": "https://localhost:8080/",
          "height": 0
        },
        "id": "acDdk3K8onqU",
        "outputId": "122c3e8f-72e8-4f8d-df1d-e3bad511e812"
      },
      "execution_count": 106,
      "outputs": [
        {
          "output_type": "execute_result",
          "data": {
            "text/plain": [
              "[0.10898376172408461]"
            ]
          },
          "metadata": {},
          "execution_count": 106
        }
      ]
    },
    {
      "cell_type": "code",
      "source": [
        "fig, axs = plt.subplots(nrows=1, ncols=2)\n",
        "fig.set_figwidth(15)\n",
        "\n",
        "axs[0].plot(train_loss_hist, c='b', label='Train Loss')\n",
        "axs[0].plot(valid_loss_hist, c='r', label='Valid Loss')\n",
        "axs[0].set_xlabel('Epoch')\n",
        "axs[0].set_ylabel('Loss')\n",
        "axs[0].legend()\n",
        "axs[0].set_title('Learning Curve')\n",
        "\n",
        "axs[1].plot(train_acc_hist, c='b', label='Valid Loss')\n",
        "axs[1].plot(valid_acc_hist, c='r', label='Valid Loss')\n",
        "axs[1].set_xlabel('Epoch')\n",
        "axs[1].set_ylabel('Accuracy')\n",
        "axs[1].legend()\n",
        "axs[1].set_title('Accuracy Curve')"
      ],
      "metadata": {
        "colab": {
          "base_uri": "https://localhost:8080/",
          "height": 414
        },
        "id": "tYnByGWbjpi0",
        "outputId": "9492b518-be32-4c9e-de13-30a57926f402"
      },
      "execution_count": 113,
      "outputs": [
        {
          "output_type": "execute_result",
          "data": {
            "text/plain": [
              "Text(0.5, 1.0, 'Accuracy Curve')"
            ]
          },
          "metadata": {},
          "execution_count": 113
        },
        {
          "output_type": "display_data",
          "data": {
            "text/plain": [
              "<Figure size 1500x480 with 2 Axes>"
            ],
            "image/png": "[encoded data removed]"
          },
          "metadata": {}
        }
      ]
    },
    {
      "cell_type": "code",
      "source": [],
      "metadata": {
        "id": "QzgykkPXoHsn"
      },
      "execution_count": null,
      "outputs": []
    },
    {
      "cell_type": "code",
      "source": [],
      "metadata": {
        "id": "8xRRxkyDs34T"
      },
      "execution_count": null,
      "outputs": []
    }
  ]
}